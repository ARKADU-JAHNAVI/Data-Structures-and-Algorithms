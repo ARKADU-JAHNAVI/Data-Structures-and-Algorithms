{
 "cells": [
  {
   "cell_type": "code",
   "execution_count": 9,
   "id": "e8f31ee1-8c22-49b9-a291-9eea36950df0",
   "metadata": {},
   "outputs": [
    {
     "name": "stdin",
     "output_type": "stream",
     "text": [
      "ENter:  eat tea tan ate nat bat\n"
     ]
    },
    {
     "name": "stdout",
     "output_type": "stream",
     "text": [
      "[['eat', 'tea', 'ate'], ['tan', 'nat'], ['bat']]\n"
     ]
    }
   ],
   "source": [
    "from collections import defaultdict \n",
    "# defaultdict(list) means: if a key does not exist,it will create an \n",
    "#                          empty list automatically.\n",
    "def groupanagrams(str):\n",
    "    anagram_map = defaultdict(list)\n",
    "# This will store:\n",
    "    # Key = sorted version of a word\n",
    "    # Value = list of words with that key\n",
    "    for word in str:\n",
    "        key = ''.join(sorted(word))\n",
    "        anagram_map[key].append(word)\n",
    "    return list(anagram_map.values())\n",
    "words = input(\"ENter: \").split()\n",
    "print(groupanagrams(words))"
   ]
  },
  {
   "cell_type": "code",
   "execution_count": null,
   "id": "81279747-09a2-4b19-a1d0-a9b70b9e4c2e",
   "metadata": {},
   "outputs": [],
   "source": []
  }
 ],
 "metadata": {
  "kernelspec": {
   "display_name": "Python 3 (ipykernel)",
   "language": "python",
   "name": "python3"
  },
  "language_info": {
   "codemirror_mode": {
    "name": "ipython",
    "version": 3
   },
   "file_extension": ".py",
   "mimetype": "text/x-python",
   "name": "python",
   "nbconvert_exporter": "python",
   "pygments_lexer": "ipython3",
   "version": "3.11.7"
  }
 },
 "nbformat": 4,
 "nbformat_minor": 5
}
