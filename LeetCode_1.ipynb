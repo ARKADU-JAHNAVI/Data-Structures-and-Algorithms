{
 "cells": [
  {
   "cell_type": "code",
   "execution_count": 31,
   "id": "87b86ce5-9eaa-4b9f-9322-a60e960cb854",
   "metadata": {},
   "outputs": [
    {
     "name": "stdin",
     "output_type": "stream",
     "text": [
      "Enter numbers:  2 7 11 15\n",
      "Enter target: 1.8\n"
     ]
    },
    {
     "name": "stdout",
     "output_type": "stream",
     "text": [
      "None\n"
     ]
    }
   ],
   "source": [
    "class Solution(object):\n",
    "    def twoSum(self, nums, target):\n",
    "        \"\"\"\n",
    "        :type nums: List[int]\n",
    "        :type target: int\n",
    "        :rtype: List[int]\n",
    "        \"\"\"\n",
    "        seen = {}\n",
    "        for i, num in enumerate(nums):\n",
    "            diff = target - num \n",
    "            if diff in seen:\n",
    "                return(seen[diff], i)\n",
    "            seen[num] = i\n",
    "    # return[]\n",
    "nums = list(map(int, input(\"Enter numbers: \").split()))\n",
    "target = float(input(\"Enter target:\"))\n",
    "\n",
    "k = Solution()\n",
    "print(k.twoSum(nums, target))\n"
   ]
  },
  {
   "cell_type": "code",
   "execution_count": 15,
   "id": "a4ac8755-64dd-4f8f-a2b7-c54f3b6e4ee9",
   "metadata": {},
   "outputs": [
    {
     "name": "stdout",
     "output_type": "stream",
     "text": [
      "(0, 1)\n"
     ]
    }
   ],
   "source": [
    "class Solution(object):\n",
    "    def twoSum(self, nums, target):\n",
    "        \"\"\"\n",
    "        :type nums: List[int]\n",
    "        :type target: int\n",
    "        :rtype: List[int]\n",
    "        \"\"\"\n",
    "        seen = {}\n",
    "        for i, num in enumerate(nums):\n",
    "            diff = target - num \n",
    "            if diff in seen:\n",
    "                return(seen[diff], i)\n",
    "            seen[num] = i\n",
    "    # return[]\n",
    "nums = [2, 7, 11, 15]\n",
    "target = 9\n",
    "\n",
    "k = Solution()\n",
    "print(k.twoSum(nums, target))"
   ]
  },
  {
   "cell_type": "code",
   "execution_count": null,
   "id": "bf252829-5c73-471b-b7a5-0ca9166ecfd8",
   "metadata": {},
   "outputs": [],
   "source": [
    " nums = [3,3]\n",
    "target = 6"
   ]
  }
 ],
 "metadata": {
  "kernelspec": {
   "display_name": "Python 3 (ipykernel)",
   "language": "python",
   "name": "python3"
  },
  "language_info": {
   "codemirror_mode": {
    "name": "ipython",
    "version": 3
   },
   "file_extension": ".py",
   "mimetype": "text/x-python",
   "name": "python",
   "nbconvert_exporter": "python",
   "pygments_lexer": "ipython3",
   "version": "3.11.7"
  }
 },
 "nbformat": 4,
 "nbformat_minor": 5
}
